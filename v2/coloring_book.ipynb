{
 "cells": [
  {
   "attachments": {},
   "cell_type": "markdown",
   "id": "6f938540",
   "metadata": {},
   "source": [
    "# MLOps Coloring Book\n",
    "\n",
    "This notebook may be used for demonstration of AutoMLOps"
   ]
  },
  {
   "cell_type": "markdown",
   "id": "2219ee67",
   "metadata": {},
   "source": [
    "## Imports"
   ]
  },
  {
   "cell_type": "code",
   "execution_count": 1,
   "id": "cd5ac7db",
   "metadata": {},
   "outputs": [],
   "source": [
    "# AutoMLOps\n",
    "from utils import AutoMLOps"
   ]
  },
  {
   "cell_type": "code",
   "execution_count": 2,
   "id": "164ff1c9",
   "metadata": {},
   "outputs": [],
   "source": [
    "%%define_imports\n",
    "import json\n",
    "import pandas as pd\n",
    "from google.cloud import aiplatform\n",
    "from google.cloud import aiplatform_v1\n",
    "from google.cloud import bigquery\n",
    "from google.cloud import storage\n",
    "import datetime\n",
    "from sklearn.tree import DecisionTreeClassifier\n",
    "from sklearn.metrics import roc_curve\n",
    "from sklearn.model_selection import train_test_split\n",
    "from joblib import dump\n",
    "import pickle\n",
    "import os"
   ]
  },
  {
   "cell_type": "markdown",
   "id": "8bde3b48-8012-4487-bbc4-b9a6198e9070",
   "metadata": {},
   "source": [
    "## Globals"
   ]
  },
  {
   "cell_type": "code",
   "execution_count": 3,
   "id": "678f3b64-28fb-4751-8286-16efb924efee",
   "metadata": {},
   "outputs": [],
   "source": [
    "bq_table = \"sandbox-srastatter.mlops_boxer_test.dry-beans\"\n",
    "model_directory = f\"gs://mlops-boxer-test/trained_models/{datetime.datetime.now()}\"\n",
    "data_path = \"gs://mlops-boxer-test/data\"\n",
    "project_id = \"sandbox-srastatter\"\n",
    "region = \"us-central1\""
   ]
  },
  {
   "cell_type": "markdown",
   "id": "7ac0c712-acdd-4830-a9bd-44f41eaa590c",
   "metadata": {},
   "source": [
    "## Data Loading"
   ]
  },
  {
   "cell_type": "code",
   "execution_count": 4,
   "id": "94a96074-761f-40f0-84bb-adfcb9bf6911",
   "metadata": {},
   "outputs": [],
   "source": [
    "%%define_component\n",
    "AutoMLOps.makeComponent(\n",
    "    name=\"create_dataset\",\n",
    "    description=\"Loads data from BQ and writes a dataframe as a csv to GCS.\", # optional\n",
    "    params=[\n",
    "        {\"name\": \"bq_table\", \"type\": str, \"description\": \"The bq input table.\"}, # descriptions are optional\n",
    "        {\"name\": \"data_path\", \"type\": str, \"description\": \"GS location where the training data is written.\"},\n",
    "        {\"name\": \"project_id\", \"type\": str, \"description\": \"Project_id.\"}\n",
    "    ]\n",
    ")\n",
    "\n",
    "bq_client = bigquery.Client(project=project_id)\n",
    "\n",
    "def get_query(bq_input_table: str) -> str:\n",
    "    \"\"\"Generates BQ Query to read data.\n",
    "\n",
    "    Args:\n",
    "    bq_input_table: The full name of the bq input table to be read into\n",
    "    the dataframe (e.g. <project>.<dataset>.<table>)\n",
    "    Returns: A BQ query string.\n",
    "    \"\"\"\n",
    "    return f\"\"\"\n",
    "    SELECT *\n",
    "    FROM `{bq_input_table}`\n",
    "    \"\"\"\n",
    "\n",
    "def load_bq_data(query: str, client: bigquery.Client) -> pd.DataFrame:\n",
    "    \"\"\"Loads data from bq into a Pandas Dataframe for EDA.\n",
    "    Args:\n",
    "    query: BQ Query to generate data.\n",
    "    client: BQ Client used to execute query.\n",
    "    Returns:\n",
    "    pd.DataFrame: A dataframe with the requested data.\n",
    "    \"\"\"\n",
    "    df = client.query(query).to_dataframe()\n",
    "    return df\n",
    "\n",
    "dataframe = load_bq_data(get_query(bq_table), bq_client)\n",
    "dataframe.to_csv(data_path)"
   ]
  },
  {
   "cell_type": "markdown",
   "id": "d4476cb4-91c5-42ff-a500-8cc275fedbd1",
   "metadata": {},
   "source": [
    "## Model Training"
   ]
  },
  {
   "cell_type": "code",
   "execution_count": 8,
   "id": "5371be73-db3f-4d79-bde7-94fcd5ea13b2",
   "metadata": {},
   "outputs": [],
   "source": [
    "%%define_component\n",
    "AutoMLOps.makeComponent(\n",
    "    name=\"train_model\",\n",
    "    description=\"Trains a decision tree on the training data.\",\n",
    "    params=[\n",
    "        {\"name\": \"model_directory\", \"type\": str, \"description\": \"GS location of saved model.\"},\n",
    "        {\"name\": \"data_path\", \"type\": str, \"description\": \"GS location where the training data.\"}\n",
    "    ]\n",
    ")\n",
    "\n",
    "def save_model(model, model_directory):\n",
    "    \"\"\"Saves a model to uri.\"\"\"\n",
    "    filename = f'model.pkl'\n",
    "    with open(filename, 'wb') as f:\n",
    "        pickle.dump(model, f)\n",
    "    \n",
    "    bucket_name = model_directory.split('/')[2]\n",
    "    prefix='/'.join(model_directory.split('/')[3:])\n",
    "    storage_client = storage.Client()\n",
    "    bucket = storage_client.get_bucket(bucket_name)\n",
    "    blob = bucket.blob(os.path.join(prefix, filename))\n",
    "    blob.upload_from_filename(filename)\n",
    "\n",
    "df = pd.read_csv(data_path)\n",
    "labels = df.pop(\"Class\").tolist()\n",
    "data = df.values.tolist()\n",
    "x_train, x_test, y_train, y_test = train_test_split(data, labels)\n",
    "skmodel = DecisionTreeClassifier()\n",
    "skmodel.fit(x_train,y_train)\n",
    "score = skmodel.score(x_test,y_test)\n",
    "print('accuracy is:',score)\n",
    "\n",
    "output_uri = os.path.join(model_directory, f'model.pkl')\n",
    "save_model(skmodel, model_directory)"
   ]
  },
  {
   "cell_type": "markdown",
   "id": "b5ed1eaa",
   "metadata": {},
   "source": [
    "## Uploading & Deploying the Model"
   ]
  },
  {
   "cell_type": "code",
   "execution_count": 9,
   "id": "47377d7b",
   "metadata": {},
   "outputs": [],
   "source": [
    "%%define_component\n",
    "AutoMLOps.makeComponent(\n",
    "    name=\"deploy_model\",\n",
    "    description=\"Trains a decision tree on the training data.\",\n",
    "    params=[\n",
    "        {\"name\": \"model_directory\", \"type\": str, \"description\": \"GS location of saved model.\"},\n",
    "        {\"name\": \"project_id\", \"type\": str, \"description\": \"Project_id.\"},\n",
    "        {\"name\": \"region\", \"type\": str, \"description\": \"Region.\"}\n",
    "    ]\n",
    ")\n",
    "\n",
    "aiplatform.init(project=project_id, location=region)\n",
    "deployed_model = aiplatform.Model.upload(\n",
    "    display_name=\"beans-model-pipeline\",\n",
    "    artifact_uri = model_directory,\n",
    "    serving_container_image_uri=\"us-docker.pkg.dev/vertex-ai/prediction/sklearn-cpu.0-24:latest\"\n",
    ")\n",
    "endpoint = deployed_model.deploy(machine_type=\"n1-standard-4\")"
   ]
  },
  {
   "cell_type": "markdown",
   "id": "73d96dcb-a020-4bab-b0e3-1e32f6b2aecf",
   "metadata": {},
   "source": [
    "## Define and Run the Pipeline"
   ]
  },
  {
   "cell_type": "code",
   "execution_count": 10,
   "id": "f3756b1d",
   "metadata": {},
   "outputs": [],
   "source": [
    "pipeline_params = {\n",
    "    \"bq_table\": bq_table,\n",
    "    \"model_directory\": model_directory,\n",
    "    \"data_path\": data_path,\n",
    "    \"project_id\": project_id,\n",
    "    \"region\": region\n",
    "}"
   ]
  },
  {
   "cell_type": "code",
   "execution_count": 11,
   "id": "a36e0154",
   "metadata": {},
   "outputs": [],
   "source": [
    "AutoMLOps.makePipeline(\n",
    "    name=\"training-pipeline\",\n",
    "    description=\"description\", # optional\n",
    "    params=[\n",
    "        {\"name\": \"bq_table\", \"type\": str, \"description\": \"Description.\"}, # descriptions are optional\n",
    "        {\"name\": \"model_directory\", \"type\": str, \"description\": \"Description.\"},\n",
    "        {\"name\": \"data_path\", \"type\": str, \"description\": \"Description.\"},\n",
    "        {\"name\": \"project_id\", \"type\": str, \"description\": \"Description.\"},\n",
    "        {\"name\": \"region\", \"type\": str, \"description\": \"Description.\"}\n",
    "    ],\n",
    "    pipeline=[{\n",
    "        \"component_name\": \"create_dataset\", \"param_mapping\": [\n",
    "            (\"bq_table\", \"bq_table\"), # (component_param, pipeline_param)\n",
    "            (\"data_path\", \"data_path\"),\n",
    "            (\"project_id\", \"project_id\")\n",
    "        ]\n",
    "    },\n",
    "    {\n",
    "        \"component_name\": \"train_model\", \"param_mapping\": [\n",
    "            (\"model_directory\", \"model_directory\"),\n",
    "            (\"data_path\", \"data_path\")\n",
    "        ]\n",
    "    },\n",
    "    {\n",
    "        \"component_name\": \"deploy_model\", \"param_mapping\": [\n",
    "            (\"model_directory\", \"model_directory\"),\n",
    "            (\"project_id\", \"project_id\"),\n",
    "            (\"region\", \"region\")\n",
    "        ]\n",
    "    }]\n",
    ")"
   ]
  },
  {
   "cell_type": "code",
   "execution_count": 12,
   "id": "7ef279e8",
   "metadata": {},
   "outputs": [],
   "source": [
    "AutoMLOps.go(project_id='sandbox-srastatter', pipeline_params=pipeline_params)"
   ]
  },
  {
   "cell_type": "markdown",
   "id": "13dd423f",
   "metadata": {},
   "source": []
  }
 ],
 "metadata": {
  "environment": {
   "kernel": "python3",
   "name": "tf2-gpu.2-8.m91",
   "type": "gcloud",
   "uri": "gcr.io/deeplearning-platform-release/tf2-gpu.2-8:m91"
  },
  "kernelspec": {
   "display_name": "Python 3",
   "language": "python",
   "name": "python3"
  },
  "language_info": {
   "codemirror_mode": {
    "name": "ipython",
    "version": 3
   },
   "file_extension": ".py",
   "mimetype": "text/x-python",
   "name": "python",
   "nbconvert_exporter": "python",
   "pygments_lexer": "ipython3",
   "version": "3.9.6"
  },
  "vscode": {
   "interpreter": {
    "hash": "31f2aee4e71d21fbe5cf8b01ff0e069b9275f58929596ceb00d14d90e3e16cd6"
   }
  }
 },
 "nbformat": 4,
 "nbformat_minor": 5
}
